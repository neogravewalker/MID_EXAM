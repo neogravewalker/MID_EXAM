{
  "nbformat": 4,
  "nbformat_minor": 0,
  "metadata": {
    "colab": {
      "provenance": []
    },
    "kernelspec": {
      "name": "python3",
      "display_name": "Python 3"
    },
    "language_info": {
      "name": "python"
    }
  },
  "cells": [
    {
      "cell_type": "markdown",
      "source": [
        "**Solution 1:**"
      ],
      "metadata": {
        "id": "p2AvuMqbMyfj"
      }
    },
    {
      "cell_type": "code",
      "execution_count": 65,
      "metadata": {
        "colab": {
          "base_uri": "https://localhost:8080/",
          "height": 71
        },
        "id": "UVktbaG58-Z9",
        "outputId": "8b6e3d24-1530-4aab-9b4c-7c03bf336327"
      },
      "outputs": [
        {
          "output_type": "display_data",
          "data": {
            "text/plain": [
              "<IPython.core.display.HTML object>"
            ],
            "text/html": [
              "\n",
              "     <input type=\"file\" id=\"files-e7b3d169-3133-4447-8875-03f928fcccf2\" name=\"files[]\" multiple disabled\n",
              "        style=\"border:none\" />\n",
              "     <output id=\"result-e7b3d169-3133-4447-8875-03f928fcccf2\">\n",
              "      Upload widget is only available when the cell has been executed in the\n",
              "      current browser session. Please rerun this cell to enable.\n",
              "      </output>\n",
              "      <script>// Copyright 2017 Google LLC\n",
              "//\n",
              "// Licensed under the Apache License, Version 2.0 (the \"License\");\n",
              "// you may not use this file except in compliance with the License.\n",
              "// You may obtain a copy of the License at\n",
              "//\n",
              "//      http://www.apache.org/licenses/LICENSE-2.0\n",
              "//\n",
              "// Unless required by applicable law or agreed to in writing, software\n",
              "// distributed under the License is distributed on an \"AS IS\" BASIS,\n",
              "// WITHOUT WARRANTIES OR CONDITIONS OF ANY KIND, either express or implied.\n",
              "// See the License for the specific language governing permissions and\n",
              "// limitations under the License.\n",
              "\n",
              "/**\n",
              " * @fileoverview Helpers for google.colab Python module.\n",
              " */\n",
              "(function(scope) {\n",
              "function span(text, styleAttributes = {}) {\n",
              "  const element = document.createElement('span');\n",
              "  element.textContent = text;\n",
              "  for (const key of Object.keys(styleAttributes)) {\n",
              "    element.style[key] = styleAttributes[key];\n",
              "  }\n",
              "  return element;\n",
              "}\n",
              "\n",
              "// Max number of bytes which will be uploaded at a time.\n",
              "const MAX_PAYLOAD_SIZE = 100 * 1024;\n",
              "\n",
              "function _uploadFiles(inputId, outputId) {\n",
              "  const steps = uploadFilesStep(inputId, outputId);\n",
              "  const outputElement = document.getElementById(outputId);\n",
              "  // Cache steps on the outputElement to make it available for the next call\n",
              "  // to uploadFilesContinue from Python.\n",
              "  outputElement.steps = steps;\n",
              "\n",
              "  return _uploadFilesContinue(outputId);\n",
              "}\n",
              "\n",
              "// This is roughly an async generator (not supported in the browser yet),\n",
              "// where there are multiple asynchronous steps and the Python side is going\n",
              "// to poll for completion of each step.\n",
              "// This uses a Promise to block the python side on completion of each step,\n",
              "// then passes the result of the previous step as the input to the next step.\n",
              "function _uploadFilesContinue(outputId) {\n",
              "  const outputElement = document.getElementById(outputId);\n",
              "  const steps = outputElement.steps;\n",
              "\n",
              "  const next = steps.next(outputElement.lastPromiseValue);\n",
              "  return Promise.resolve(next.value.promise).then((value) => {\n",
              "    // Cache the last promise value to make it available to the next\n",
              "    // step of the generator.\n",
              "    outputElement.lastPromiseValue = value;\n",
              "    return next.value.response;\n",
              "  });\n",
              "}\n",
              "\n",
              "/**\n",
              " * Generator function which is called between each async step of the upload\n",
              " * process.\n",
              " * @param {string} inputId Element ID of the input file picker element.\n",
              " * @param {string} outputId Element ID of the output display.\n",
              " * @return {!Iterable<!Object>} Iterable of next steps.\n",
              " */\n",
              "function* uploadFilesStep(inputId, outputId) {\n",
              "  const inputElement = document.getElementById(inputId);\n",
              "  inputElement.disabled = false;\n",
              "\n",
              "  const outputElement = document.getElementById(outputId);\n",
              "  outputElement.innerHTML = '';\n",
              "\n",
              "  const pickedPromise = new Promise((resolve) => {\n",
              "    inputElement.addEventListener('change', (e) => {\n",
              "      resolve(e.target.files);\n",
              "    });\n",
              "  });\n",
              "\n",
              "  const cancel = document.createElement('button');\n",
              "  inputElement.parentElement.appendChild(cancel);\n",
              "  cancel.textContent = 'Cancel upload';\n",
              "  const cancelPromise = new Promise((resolve) => {\n",
              "    cancel.onclick = () => {\n",
              "      resolve(null);\n",
              "    };\n",
              "  });\n",
              "\n",
              "  // Wait for the user to pick the files.\n",
              "  const files = yield {\n",
              "    promise: Promise.race([pickedPromise, cancelPromise]),\n",
              "    response: {\n",
              "      action: 'starting',\n",
              "    }\n",
              "  };\n",
              "\n",
              "  cancel.remove();\n",
              "\n",
              "  // Disable the input element since further picks are not allowed.\n",
              "  inputElement.disabled = true;\n",
              "\n",
              "  if (!files) {\n",
              "    return {\n",
              "      response: {\n",
              "        action: 'complete',\n",
              "      }\n",
              "    };\n",
              "  }\n",
              "\n",
              "  for (const file of files) {\n",
              "    const li = document.createElement('li');\n",
              "    li.append(span(file.name, {fontWeight: 'bold'}));\n",
              "    li.append(span(\n",
              "        `(${file.type || 'n/a'}) - ${file.size} bytes, ` +\n",
              "        `last modified: ${\n",
              "            file.lastModifiedDate ? file.lastModifiedDate.toLocaleDateString() :\n",
              "                                    'n/a'} - `));\n",
              "    const percent = span('0% done');\n",
              "    li.appendChild(percent);\n",
              "\n",
              "    outputElement.appendChild(li);\n",
              "\n",
              "    const fileDataPromise = new Promise((resolve) => {\n",
              "      const reader = new FileReader();\n",
              "      reader.onload = (e) => {\n",
              "        resolve(e.target.result);\n",
              "      };\n",
              "      reader.readAsArrayBuffer(file);\n",
              "    });\n",
              "    // Wait for the data to be ready.\n",
              "    let fileData = yield {\n",
              "      promise: fileDataPromise,\n",
              "      response: {\n",
              "        action: 'continue',\n",
              "      }\n",
              "    };\n",
              "\n",
              "    // Use a chunked sending to avoid message size limits. See b/62115660.\n",
              "    let position = 0;\n",
              "    do {\n",
              "      const length = Math.min(fileData.byteLength - position, MAX_PAYLOAD_SIZE);\n",
              "      const chunk = new Uint8Array(fileData, position, length);\n",
              "      position += length;\n",
              "\n",
              "      const base64 = btoa(String.fromCharCode.apply(null, chunk));\n",
              "      yield {\n",
              "        response: {\n",
              "          action: 'append',\n",
              "          file: file.name,\n",
              "          data: base64,\n",
              "        },\n",
              "      };\n",
              "\n",
              "      let percentDone = fileData.byteLength === 0 ?\n",
              "          100 :\n",
              "          Math.round((position / fileData.byteLength) * 100);\n",
              "      percent.textContent = `${percentDone}% done`;\n",
              "\n",
              "    } while (position < fileData.byteLength);\n",
              "  }\n",
              "\n",
              "  // All done.\n",
              "  yield {\n",
              "    response: {\n",
              "      action: 'complete',\n",
              "    }\n",
              "  };\n",
              "}\n",
              "\n",
              "scope.google = scope.google || {};\n",
              "scope.google.colab = scope.google.colab || {};\n",
              "scope.google.colab._files = {\n",
              "  _uploadFiles,\n",
              "  _uploadFilesContinue,\n",
              "};\n",
              "})(self);\n",
              "</script> "
            ]
          },
          "metadata": {}
        },
        {
          "output_type": "stream",
          "name": "stdout",
          "text": [
            "Saving diabetes.csv to diabetes (2).csv\n"
          ]
        }
      ],
      "source": [
        "import pandas as pd\n",
        "from google.colab import files\n",
        "diabetes = files.upload()"
      ]
    },
    {
      "cell_type": "code",
      "source": [
        "df= pd.read_csv(\"diabetes (2).csv\")\n",
        "print(df)"
      ],
      "metadata": {
        "colab": {
          "base_uri": "https://localhost:8080/"
        },
        "id": "tigHVqOp-MDx",
        "outputId": "3420fe24-5f17-46ca-d380-31b7eb66b57c"
      },
      "execution_count": 77,
      "outputs": [
        {
          "output_type": "stream",
          "name": "stdout",
          "text": [
            "     Pregnancies  Glucose  BloodPressure  SkinThickness  Insulin   BMI  \\\n",
            "0              6      148             72             35        0  33.6   \n",
            "1              1       85             66             29        0  26.6   \n",
            "2              8      183             64              0        0  23.3   \n",
            "3              1       89             66             23       94  28.1   \n",
            "4              0      137             40             35      168  43.1   \n",
            "..           ...      ...            ...            ...      ...   ...   \n",
            "763           10      101             76             48      180  32.9   \n",
            "764            2      122             70             27        0  36.8   \n",
            "765            5      121             72             23      112  26.2   \n",
            "766            1      126             60              0        0  30.1   \n",
            "767            1       93             70             31        0  30.4   \n",
            "\n",
            "     DiabetesPedigreeFunction  Age  Outcome  \n",
            "0                       0.627   50        1  \n",
            "1                       0.351   31        0  \n",
            "2                       0.672   32        1  \n",
            "3                       0.167   21        0  \n",
            "4                       2.288   33        1  \n",
            "..                        ...  ...      ...  \n",
            "763                     0.171   63        0  \n",
            "764                     0.340   27        0  \n",
            "765                     0.245   30        0  \n",
            "766                     0.349   47        1  \n",
            "767                     0.315   23        0  \n",
            "\n",
            "[768 rows x 9 columns]\n"
          ]
        }
      ]
    },
    {
      "cell_type": "code",
      "source": [
        "import functools as funk\n",
        "pedigree= []\n",
        "#for x in df[\"DiabetesPedigreeFunction\"]:\n",
        "#  pedigree.append(round(10*x,1))\n",
        "#                 the above commented code was made for my own understanding\n",
        "pedigree=list(map(lambda x : round (x*10, 1),df[\"DiabetesPedigreeFunction\"]))\n",
        "print(pedigree)\n",
        "df['PedigreeNew'] = pedigree\n",
        "print(f\"Total of Pedigree Column is:\", round(funk.reduce(lambda x, y: x+y, df['PedigreeNew']), 1))\n",
        "print(df)"
      ],
      "metadata": {
        "colab": {
          "base_uri": "https://localhost:8080/"
        },
        "id": "9HTKlChl-rbJ",
        "outputId": "f5adb11f-b9b0-4e6a-fd5f-84abcdc7bada"
      },
      "execution_count": 93,
      "outputs": [
        {
          "output_type": "stream",
          "name": "stdout",
          "text": [
            "[6.3, 3.5, 6.7, 1.7, 22.9, 2.0, 2.5, 1.3, 1.6, 2.3, 1.9, 5.4, 14.4, 4.0, 5.9, 4.8, 5.5, 2.5, 1.8, 5.3, 7.0, 3.9, 4.5, 2.6, 2.5, 2.0, 2.6, 4.9, 2.5, 3.4, 5.5, 8.5, 2.7, 1.9, 5.1, 9.7, 4.2, 6.7, 5.0, 13.9, 2.7, 7.0, 2.3, 7.2, 2.9, 18.9, 5.6, 5.9, 3.4, 3.0, 4.9, 5.3, 3.4, 4.7, 7.2, 2.5, 2.5, 9.6, 17.8, 1.7, 3.0, 2.7, 5.9, 7.0, 2.6, 2.0, 8.6, 8.4, 3.3, 1.9, 8.7, 4.1, 5.8, 2.3, 4.0, 1.4, 3.9, 3.7, 2.7, 3.1, 1.4, 1.0, 7.7, 2.4, 2.3, 7.0, 1.8, 3.2, 1.5, 1.7, 2.6, 4.4, 2.6, 2.8, 7.6, 2.5, 1.3, 3.2, 3.6, 3.2, 12.2, 1.8, 2.6, 2.8, 9.3, 8.0, 2.1, 2.9, 3.4, 2.5, 2.0, 5.4, 1.9, 3.9, 5.9, 5.4, 2.2, 6.5, 4.4, 2.2, 7.6, 2.6, 4.0, 1.9, 2.8, 5.0, 4.5, 2.6, 4.0, 7.4, 3.6, 11.1, 3.6, 4.6, 6.5, 0.9, 6.0, 5.3, 7.0, 1.6, 2.7, 2.9, 3.2, 2.7, 2.4, 5.7, 1.0, 14.0, 2.2, 0.9, 4.0, 4.3, 11.9, 6.9, 1.4, 3.4, 6.4, 8.3, 2.3, 8.2, 2.9, 2.0, 1.7, 3.7, 7.4, 7.2, 2.6, 7.1, 4.7, 5.0, 1.8, 5.4, 7.7, 6.8, 3.7, 7.2, 3.8, 3.2, 1.9, 9.6, 0.8, 7.2, 3.0, 2.7, 2.4, 7.5, 6.2, 13.2, 6.4, 3.6, 1.4, 3.7, 3.8, 5.8, 1.4, 4.0, 1.9, 6.8, 9.1, 1.5, 8.7, 2.4, 7.9, 2.3, 3.2, 4.1, 6.0, 1.5, 2.9, 3.5, 2.9, 3.8, 1.6, 4.3, 2.6, 7.4, 5.1, 4.6, 12.2, 2.6, 10.7, 8.1, 2.1, 6.9, 6.7, 1.0, 2.0, 6.5, 23.3, 0.9, 6.5, 2.4, 5.8, 3.9, 2.9, 4.8, 5.9, 6.9, 8.3, 5.8, 1.9, 4.5, 4.0, 13.2, 3.3, 12.1, 2.6, 4.3, 2.8, 1.4, 3.8, 2.8, 2.5, 2.4, 9.3, 5.4, 5.6, 0.9, 6.6, 13.5, 3.0, 7.6, 6.1, 2.0, 2.3, 10.0, 9.3, 11.0, 0.8, 2.4, 11.4, 1.3, 2.5, 4.2, 2.5, 6.8, 3.0, 4.5, 7.4, 8.8, 3.3, 2.8, 2.6, 1.7, 2.6, 6.5, 6.2, 8.1, 3.4, 2.6, 4.3, 7.6, 12.2, 6.1, 2.5, 6.9, 3.4, 5.2, 4.1, 8.4, 8.4, 4.2, 1.6, 2.1, 2.1, 2.1, 3.3, 1.4, 13.9, 8.8, 3.1, 6.0, 4.3, 6.3, 11.3, 3.1, 2.8, 3.4, 1.5, 1.3, 5.3, 2.0, 2.5, 7.3, 1.5, 1.2, 6.9, 2.0, 1.3, 1.2, 14.8, 1.7, 2.8, 1.4, 2.6, 2.6, 9.3, 3.4, 8.9, 3.3, 4.7, 6.7, 3.9, 2.9, 4.8, 3.5, 6.5, 1.9, 2.8, 3.5, 2.4, 2.5, 2.4, 5.8, 5.6, 3.0, 9.6, 5.7, 3.8, 8.8, 5.8, 2.1, 3.0, 5.2, 3.9, 5.0, 3.7, 2.5, 3.1, 2.3, 21.4, 17.3, 5.5, 2.2, 8.2, 5.3, 3.0, 5.1, 2.4, 10.2, 8.2, 2.4, 9.5, 12.7, 2.2, 2.0, 6.6, 2.4, 4.5, 9.5, 4.4, 3.4, 3.9, 4.6, 8.0, 16.0, 9.4, 2.0, 3.9, 2.4, 1.6, 1.5, 2.9, 2.8, 1.4, 5.2, 3.8, 3.4, 11.9, 7.0, 6.7, 5.3, 10.8, 2.6, 5.3, 2.6, 10.9, 5.5, 6.2, 2.2, 5.1, 5.6, 5.0, 4.2, 5.2, 2.6, 2.6, 3.3, 2.8, 2.3, 1.1, 5.5, 5.3, 1.7, 11.4, 2.0, 2.4, 4.3, 1.5, 7.3, 4.3, 5.0, 2.3, 9.5, 3.8, 24.2, 6.6, 3.3, 5.1, 2.8, 4.1, 5.4, 3.8, 8.3, 5.0, 2.1, 6.9, 3.6, 10.0, 4.6, 7.3, 4.2, 7.0, 2.6, 10.2, 4.5, 2.7, 6.0, 1.8, 5.7, 6.1, 1.7, 2.6, 2.1, 1.3, 2.3, 7.1, 4.7, 1.6, 4.2, 3.4, 2.0, 3.1, 2.3, 6.3, 3.6, 5.4, 11.6, 2.9, 5.5, 6.3, 2.9, 1.4, 11.4, 1.7, 3.0, 2.9, 5.5, 1.6, 8.4, 3.1, 2.7, 7.3, 7.4, 2.4, 2.6, 3.1, 6.9, 9.7, 4.1, 3.0, 2.1, 2.0, 5.2, 1.5, 2.7, 7.7, 3.0, 1.8, 5.8, 1.9, 3.0, 1.9, 6.5, 1.5, 4.4, 3.0, 1.1, 4.9, 6.6, 7.2, 6.9, 9.2, 5.0, 12.5, 3.0, 2.0, 7.3, 8.0, 9.7, 6.6, 5.5, 8.2, 1.6, 3.6, 4.2, 10.3, 1.6, 3.4, 6.8, 2.0, 5.9, 2.5, 4.2, 4.7, 1.6, 2.2, 2.4, 1.3, 3.0, 1.2, 5.0, 4.0, 5.0, 6.0, 7.5, 4.1, 0.9, 3.4, 2.0, 2.7, 2.7, 4.3, 2.0, 8.9, 2.8, 8.1, 6.9, 2.5, 5.8, 3.7, 2.1, 2.6, 1.9, 6.9, 4.2, 1.3, 2.5, 11.5, 3.4, 9.2, 1.8, 4.0, 17.0, 7.3, 6.8, 1.9, 5.6, 0.9, 4.1, 4.0, 1.9, 1.0, 6.9, 2.1, 5.1, 12.6, 4.8, 2.7, 1.4, 2.9, 5.9, 7.9, 8.8, 5.6, 2.1, 1.6, 2.6, 12.8, 1.4, 2.5, 17.0, 14.6, 3.5, 1.6, 3.6, 2.1, 3.9, 1.4, 1.5, 7.3, 2.4, 3.4, 1.2, 1.7, 4.7, 1.5, 6.5, 8.7, 1.5, 6.9, 3.0, 1.8, 6.1, 7.3, 1.3, 4.5, 4.5, 2.6, 1.3, 2.3, 4.7, 2.7, 4.5, 1.4, 2.4, 1.6, 11.6, 1.9, 12.9, 1.8, 13.9, 1.7, 6.4, 2.5, 2.2, 2.3, 1.4, 4.3, 1.6, 6.3, 5.5, 2.8, 8.8, 5.9, 3.3, 2.3, 2.6, 1.3, 6.1, 3.3, 3.6, 3.7, 5.4, 6.4, 5.9, 3.1, 1.8, 8.3, 3.4, 8.6, 2.6, 8.9, 4.4, 1.9, 1.3, 2.7, 2.5, 6.0, 9.0, 4.8, 5.6, 9.1, 3.0, 1.2, 1.8, 2.6, 1.8, 1.5, 6.7, 2.9, 4.4, 4.4, 3.5, 1.2, 8.3, 9.7, 5.9, 4.1, 3.8, 3.2, 2.9, 3.5, 2.5, 2.7, 2.4, 5.0, 4.3, 3.3, 1.4, 3.2, 2.6, 6.5, 4.3, 5.6, 2.8, 5.2, 6.0, 4.5, 2.9, 7.9, 4.0, 2.2, 7.3, 11.7, 4.9, 3.6, 11.0, 4.1, 1.8, 11.8, 2.6, 2.2, 2.2, 4.4, 10.6, 3.9, 2.6, 2.0, 2.8, 7.7, 4.0, 1.4, 1.7, 3.4, 2.5, 3.5, 3.1]\n",
            "Total of Pedigree Column is: 3623.7\n",
            "     Pregnancies  Glucose  BloodPressure  SkinThickness  Insulin   BMI  \\\n",
            "0              6      148             72             35        0  33.6   \n",
            "1              1       85             66             29        0  26.6   \n",
            "2              8      183             64              0        0  23.3   \n",
            "3              1       89             66             23       94  28.1   \n",
            "4              0      137             40             35      168  43.1   \n",
            "..           ...      ...            ...            ...      ...   ...   \n",
            "763           10      101             76             48      180  32.9   \n",
            "764            2      122             70             27        0  36.8   \n",
            "765            5      121             72             23      112  26.2   \n",
            "766            1      126             60              0        0  30.1   \n",
            "767            1       93             70             31        0  30.4   \n",
            "\n",
            "     DiabetesPedigreeFunction  Age  Outcome  PedigreeNew  \n",
            "0                       0.627   50        1          6.3  \n",
            "1                       0.351   31        0          3.5  \n",
            "2                       0.672   32        1          6.7  \n",
            "3                       0.167   21        0          1.7  \n",
            "4                       2.288   33        1         22.9  \n",
            "..                        ...  ...      ...          ...  \n",
            "763                     0.171   63        0          1.7  \n",
            "764                     0.340   27        0          3.4  \n",
            "765                     0.245   30        0          2.5  \n",
            "766                     0.349   47        1          3.5  \n",
            "767                     0.315   23        0          3.1  \n",
            "\n",
            "[768 rows x 10 columns]\n"
          ]
        }
      ]
    },
    {
      "cell_type": "code",
      "source": [
        "df.to_csv('Diabetes_New.csv')\n",
        "files.download('Diabetes_New.csv')"
      ],
      "metadata": {
        "colab": {
          "base_uri": "https://localhost:8080/",
          "height": 17
        },
        "id": "7eriuFvaBh8X",
        "outputId": "e225ac4a-24d7-40f7-9e2d-ef0d411d284f"
      },
      "execution_count": null,
      "outputs": [
        {
          "output_type": "display_data",
          "data": {
            "text/plain": [
              "<IPython.core.display.Javascript object>"
            ],
            "application/javascript": [
              "\n",
              "    async function download(id, filename, size) {\n",
              "      if (!google.colab.kernel.accessAllowed) {\n",
              "        return;\n",
              "      }\n",
              "      const div = document.createElement('div');\n",
              "      const label = document.createElement('label');\n",
              "      label.textContent = `Downloading \"${filename}\": `;\n",
              "      div.appendChild(label);\n",
              "      const progress = document.createElement('progress');\n",
              "      progress.max = size;\n",
              "      div.appendChild(progress);\n",
              "      document.body.appendChild(div);\n",
              "\n",
              "      const buffers = [];\n",
              "      let downloaded = 0;\n",
              "\n",
              "      const channel = await google.colab.kernel.comms.open(id);\n",
              "      // Send a message to notify the kernel that we're ready.\n",
              "      channel.send({})\n",
              "\n",
              "      for await (const message of channel.messages) {\n",
              "        // Send a message to notify the kernel that we're ready.\n",
              "        channel.send({})\n",
              "        if (message.buffers) {\n",
              "          for (const buffer of message.buffers) {\n",
              "            buffers.push(buffer);\n",
              "            downloaded += buffer.byteLength;\n",
              "            progress.value = downloaded;\n",
              "          }\n",
              "        }\n",
              "      }\n",
              "      const blob = new Blob(buffers, {type: 'application/binary'});\n",
              "      const a = document.createElement('a');\n",
              "      a.href = window.URL.createObjectURL(blob);\n",
              "      a.download = filename;\n",
              "      div.appendChild(a);\n",
              "      a.click();\n",
              "      div.remove();\n",
              "    }\n",
              "  "
            ]
          },
          "metadata": {}
        },
        {
          "output_type": "display_data",
          "data": {
            "text/plain": [
              "<IPython.core.display.Javascript object>"
            ],
            "application/javascript": [
              "download(\"download_cef6d9e0-531d-4451-ac0d-17bb38f76649\", \"Diabetes_New.csv\", 26253)"
            ]
          },
          "metadata": {}
        }
      ]
    },
    {
      "cell_type": "code",
      "source": [
        "#print(f\"Total of Pedigree Column is:\")\n",
        "#print(round(funk.reduce(lambda x, y: x+y, df['PedigreeNew']),1))"
      ],
      "metadata": {
        "id": "uxk8-5T0L_op"
      },
      "execution_count": null,
      "outputs": []
    },
    {
      "cell_type": "markdown",
      "source": [
        "**Solution 2:**"
      ],
      "metadata": {
        "id": "1XSmPRY1Mu98"
      }
    },
    {
      "cell_type": "code",
      "source": [
        "from google.colab import drive\n",
        "drive.mount('MotorCollision.csv')"
      ],
      "metadata": {
        "colab": {
          "base_uri": "https://localhost:8080/"
        },
        "id": "hfUzKxOxMtWY",
        "outputId": "bed30d23-8300-4948-8e2e-8363875754a1"
      },
      "execution_count": null,
      "outputs": [
        {
          "output_type": "stream",
          "name": "stdout",
          "text": [
            "Drive already mounted at MotorCollision.csv; to attempt to forcibly remount, call drive.mount(\"MotorCollision.csv\", force_remount=True).\n"
          ]
        }
      ]
    },
    {
      "cell_type": "code",
      "source": [
        "df2=pd.read_csv(\"/content/MotorCollision.csv/MyDrive/MotorCollision.csv\")\n",
        "print(df2)"
      ],
      "metadata": {
        "id": "96FT1mEFPBls"
      },
      "execution_count": null,
      "outputs": []
    },
    {
      "cell_type": "code",
      "source": [
        "import numpy as np\n",
        "#df2.groupby(by=df2[\"CRASH DATE\", \"LATITUDE\", \"LONGITUDE\"])\n",
        "tf = df2\n",
        "tf = tf[['CRASH DATE', 'LATITUDE','LONGITUDE']]\n",
        "tf = tf.dropna()\n",
        "print(tf)"
      ],
      "metadata": {
        "id": "XIy2kE9aRzFd"
      },
      "execution_count": null,
      "outputs": []
    },
    {
      "cell_type": "code",
      "source": [
        "tf2 = tf.iloc[:1000]\n",
        "print(tf2)"
      ],
      "metadata": {
        "colab": {
          "base_uri": "https://localhost:8080/"
        },
        "id": "krgGJJ4oHaH7",
        "outputId": "11388496-127d-4a28-c748-d0ba068265ab"
      },
      "execution_count": 95,
      "outputs": [
        {
          "output_type": "stream",
          "name": "stdout",
          "text": [
            "      CRASH DATE   LATITUDE  LONGITUDE\n",
            "3     09/11/2021  40.667202 -73.866500\n",
            "4     12/14/2021  40.683304 -73.917274\n",
            "6     12/14/2021  40.709183 -73.956825\n",
            "7     12/14/2021  40.868160 -73.831480\n",
            "8     12/14/2021  40.671720 -73.897100\n",
            "...          ...        ...        ...\n",
            "1073  04/16/2021  40.748320 -73.877290\n",
            "1074  04/16/2021  40.810940 -73.943180\n",
            "1075  04/15/2021  40.648840 -73.951020\n",
            "1076  04/14/2021  40.641240 -73.943726\n",
            "1077  04/14/2021  40.810486 -73.905075\n",
            "\n",
            "[1000 rows x 3 columns]\n"
          ]
        }
      ]
    },
    {
      "cell_type": "code",
      "source": [
        "import re\n",
        "dt= list(tf2['CRASH DATE'])\n",
        "date=[]\n",
        "for d in dt:\n",
        "  a=re.search('/[0-9]{1,2}', d)\n",
        "  date.append(a.group(0))\n",
        "tf2['DATE']=date\n",
        "\n",
        "tf2['LONGITUDE']= str(tf2[\"LONGITUDE\"])\n",
        "lg= list(tf2['LONGITUDE'])\n",
        "longg=[]\n",
        "for g in lg:\n",
        "  a=re.search('.[0-9]{4}', g)\n",
        "  longg.append(a.group(0))\n",
        "tf2['LONG']=longg\n",
        "\n",
        "tf2['LATITUDE']= str(tf2[\"LATITUDE\"])\n",
        "lt= list(tf2['LATITUDE'])\n",
        "lat=[]\n",
        "for t in lt:\n",
        "  a=re.search('.[0-9]{4}', t)\n",
        "  lat.append(a.group(0))\n",
        "tf2['LAT']=lat\n",
        "\n",
        "tf2[\"REGEX\"] = tf2['DATE'] + tf2['LONG'] + tf2['LAT']\n",
        "print(tf2)"
      ],
      "metadata": {
        "colab": {
          "base_uri": "https://localhost:8080/"
        },
        "id": "088nW-IvN4oh",
        "outputId": "962b6b6a-818d-4392-c388-f34bca626586"
      },
      "execution_count": 101,
      "outputs": [
        {
          "output_type": "stream",
          "name": "stdout",
          "text": [
            "      CRASH DATE                                           LATITUDE  \\\n",
            "3     09/11/2021  3       3       3       40.667202\\n4       40....   \n",
            "4     12/14/2021  3       3       3       40.667202\\n4       40....   \n",
            "6     12/14/2021  3       3       3       40.667202\\n4       40....   \n",
            "7     12/14/2021  3       3       3       40.667202\\n4       40....   \n",
            "8     12/14/2021  3       3       3       40.667202\\n4       40....   \n",
            "...          ...                                                ...   \n",
            "1073  04/16/2021  3       3       3       40.667202\\n4       40....   \n",
            "1074  04/16/2021  3       3       3       40.667202\\n4       40....   \n",
            "1075  04/15/2021  3       3       3       40.667202\\n4       40....   \n",
            "1076  04/14/2021  3       3       3       40.667202\\n4       40....   \n",
            "1077  04/14/2021  3       3       3       40.667202\\n4       40....   \n",
            "\n",
            "                                              LONGITUDE DATE   LONG    LAT  \\\n",
            "3     3       3       3      -73.866500\\n4      -73....  /11  .8665  .6672   \n",
            "4     3       3       3      -73.866500\\n4      -73....  /14  .8665  .6672   \n",
            "6     3       3       3      -73.866500\\n4      -73....  /14  .8665  .6672   \n",
            "7     3       3       3      -73.866500\\n4      -73....  /14  .8665  .6672   \n",
            "8     3       3       3      -73.866500\\n4      -73....  /14  .8665  .6672   \n",
            "...                                                 ...  ...    ...    ...   \n",
            "1073  3       3       3      -73.866500\\n4      -73....  /16  .8665  .6672   \n",
            "1074  3       3       3      -73.866500\\n4      -73....  /16  .8665  .6672   \n",
            "1075  3       3       3      -73.866500\\n4      -73....  /15  .8665  .6672   \n",
            "1076  3       3       3      -73.866500\\n4      -73....  /14  .8665  .6672   \n",
            "1077  3       3       3      -73.866500\\n4      -73....  /14  .8665  .6672   \n",
            "\n",
            "              REGEX  \n",
            "3     /11.8665.6672  \n",
            "4     /14.8665.6672  \n",
            "6     /14.8665.6672  \n",
            "7     /14.8665.6672  \n",
            "8     /14.8665.6672  \n",
            "...             ...  \n",
            "1073  /16.8665.6672  \n",
            "1074  /16.8665.6672  \n",
            "1075  /15.8665.6672  \n",
            "1076  /14.8665.6672  \n",
            "1077  /14.8665.6672  \n",
            "\n",
            "[1000 rows x 7 columns]\n"
          ]
        },
        {
          "output_type": "stream",
          "name": "stderr",
          "text": [
            "<ipython-input-101-faa8f952ed0d>:7: SettingWithCopyWarning: \n",
            "A value is trying to be set on a copy of a slice from a DataFrame.\n",
            "Try using .loc[row_indexer,col_indexer] = value instead\n",
            "\n",
            "See the caveats in the documentation: https://pandas.pydata.org/pandas-docs/stable/user_guide/indexing.html#returning-a-view-versus-a-copy\n",
            "  tf2['DATE']=date\n",
            "<ipython-input-101-faa8f952ed0d>:9: SettingWithCopyWarning: \n",
            "A value is trying to be set on a copy of a slice from a DataFrame.\n",
            "Try using .loc[row_indexer,col_indexer] = value instead\n",
            "\n",
            "See the caveats in the documentation: https://pandas.pydata.org/pandas-docs/stable/user_guide/indexing.html#returning-a-view-versus-a-copy\n",
            "  tf2['LONGITUDE']= str(tf2[\"LONGITUDE\"])\n",
            "<ipython-input-101-faa8f952ed0d>:15: SettingWithCopyWarning: \n",
            "A value is trying to be set on a copy of a slice from a DataFrame.\n",
            "Try using .loc[row_indexer,col_indexer] = value instead\n",
            "\n",
            "See the caveats in the documentation: https://pandas.pydata.org/pandas-docs/stable/user_guide/indexing.html#returning-a-view-versus-a-copy\n",
            "  tf2['LONG']=longg\n",
            "<ipython-input-101-faa8f952ed0d>:17: SettingWithCopyWarning: \n",
            "A value is trying to be set on a copy of a slice from a DataFrame.\n",
            "Try using .loc[row_indexer,col_indexer] = value instead\n",
            "\n",
            "See the caveats in the documentation: https://pandas.pydata.org/pandas-docs/stable/user_guide/indexing.html#returning-a-view-versus-a-copy\n",
            "  tf2['LATITUDE']= str(tf2[\"LATITUDE\"])\n",
            "<ipython-input-101-faa8f952ed0d>:23: SettingWithCopyWarning: \n",
            "A value is trying to be set on a copy of a slice from a DataFrame.\n",
            "Try using .loc[row_indexer,col_indexer] = value instead\n",
            "\n",
            "See the caveats in the documentation: https://pandas.pydata.org/pandas-docs/stable/user_guide/indexing.html#returning-a-view-versus-a-copy\n",
            "  tf2['LAT']=lat\n",
            "<ipython-input-101-faa8f952ed0d>:25: SettingWithCopyWarning: \n",
            "A value is trying to be set on a copy of a slice from a DataFrame.\n",
            "Try using .loc[row_indexer,col_indexer] = value instead\n",
            "\n",
            "See the caveats in the documentation: https://pandas.pydata.org/pandas-docs/stable/user_guide/indexing.html#returning-a-view-versus-a-copy\n",
            "  tf2[\"REGEX\"] = tf2['DATE'] + tf2['LONG'] + tf2['LAT']\n"
          ]
        }
      ]
    },
    {
      "cell_type": "code",
      "source": [
        "df.hist(column=['Glucose'])"
      ],
      "metadata": {
        "colab": {
          "base_uri": "https://localhost:8080/",
          "height": 469
        },
        "id": "48gSrPv4T_4-",
        "outputId": "e853a55b-ce53-4472-c9f7-dce2f148860a"
      },
      "execution_count": null,
      "outputs": [
        {
          "output_type": "execute_result",
          "data": {
            "text/plain": [
              "array([[<Axes: title={'center': 'Glucose'}>]], dtype=object)"
            ]
          },
          "metadata": {},
          "execution_count": 36
        },
        {
          "output_type": "display_data",
          "data": {
            "text/plain": [
              "<Figure size 640x480 with 1 Axes>"
            ],
            "image/png": "[encoded data removed]"
          },
          "metadata": {}
        }
      ]
    },
    {
      "cell_type": "code",
      "source": [
        "import matplotlib.pyplot as plt\n",
        "#df.plot.bar(x=df[\"Glucose\"], y=df[\"BloodPressure\"]);\n",
        "plt.bar(x=df[\"Glucose\"], height=df[\"BloodPressure\"])\n",
        "\n",
        "#plt.plot(df['Glucose'], df['Blood Pressure'])\n",
        "#plt.scatter(df['Glucose'], df['Blood Pressure'])"
      ],
      "metadata": {
        "colab": {
          "base_uri": "https://localhost:8080/",
          "height": 447
        },
        "id": "PW8_OlsOdZfh",
        "outputId": "2958c12e-4c3a-48dd-86a3-577ba0c96fe0"
      },
      "execution_count": 59,
      "outputs": [
        {
          "output_type": "execute_result",
          "data": {
            "text/plain": [
              "<BarContainer object of 768 artists>"
            ]
          },
          "metadata": {},
          "execution_count": 59
        },
        {
          "output_type": "display_data",
          "data": {
            "text/plain": [
              "<Figure size 640x480 with 1 Axes>"
            ],
            "image/png": "[encoded data removed]"
          },
          "metadata": {}
        }
      ]
    },
    {
      "cell_type": "code",
      "source": [
        "plt.boxplot(x=df[\"Glucose\"])"
      ],
      "metadata": {
        "colab": {
          "base_uri": "https://localhost:8080/",
          "height": 569
        },
        "id": "Ix0brYH6DMTz",
        "outputId": "ec7db373-730f-43ca-b3a6-092d803aae78"
      },
      "execution_count": 61,
      "outputs": [
        {
          "output_type": "execute_result",
          "data": {
            "text/plain": [
              "{'whiskers': [<matplotlib.lines.Line2D at 0x7f47743ba920>,\n",
              "  <matplotlib.lines.Line2D at 0x7f47743b8d90>],\n",
              " 'caps': [<matplotlib.lines.Line2D at 0x7f47743b99f0>,\n",
              "  <matplotlib.lines.Line2D at 0x7f47743b9030>],\n",
              " 'boxes': [<matplotlib.lines.Line2D at 0x7f47743b9a20>],\n",
              " 'medians': [<matplotlib.lines.Line2D at 0x7f47743b8ee0>],\n",
              " 'fliers': [<matplotlib.lines.Line2D at 0x7f47743ba5f0>],\n",
              " 'means': []}"
            ]
          },
          "metadata": {},
          "execution_count": 61
        },
        {
          "output_type": "display_data",
          "data": {
            "text/plain": [
              "<Figure size 640x480 with 1 Axes>"
            ],
            "image/png": "[encoded data removed]"
          },
          "metadata": {}
        }
      ]
    }
  ]
}